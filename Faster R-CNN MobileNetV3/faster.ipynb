{
 "metadata": {
  "kernelspec": {
   "language": "python",
   "display_name": "Python 3",
   "name": "python3"
  },
  "language_info": {
   "name": "python",
   "version": "3.10.12",
   "mimetype": "text/x-python",
   "codemirror_mode": {
    "name": "ipython",
    "version": 3
   },
   "pygments_lexer": "ipython3",
   "nbconvert_exporter": "python",
   "file_extension": ".py"
  }
 },
 "nbformat_minor": 4,
 "nbformat": 4,
 "cells": [
  {
   "cell_type": "code",
   "source": [
    "import os\n",
    "import torch\n",
    "from torch.utils.data import Dataset, DataLoader\n",
    "from torchvision.models.detection import fasterrcnn_mobilenet_v3_large_fpn\n",
    "import torchvision.transforms as T\n",
    "from PIL import Image\n",
    "import xml.etree.ElementTree as ET\n",
    "from tqdm.notebook import tqdm\n",
    "from torchvision.models.detection.faster_rcnn import FastRCNNPredictor\n",
    "# Đường dẫn tới thư mục train và val\n",
    "train_root = \"/kaggle/input/yoloooooooooo/dataset_80.20_full/train\"\n",
    "val_root = \"/kaggle/input/yoloooooooooo/dataset_80.20_full/val\"\n",
    "\n",
    "\n",
    "# Lấy đường dẫn tới thư mục images và labels từ root\n",
    "def get_img_label_paths(root):\n",
    "    return os.path.join(root, \"images\"), os.path.join(root, \"labels\")\n",
    "\n",
    "# Hàm đọc XML và trả về labels và boxes\n",
    "def parse_yolo_format(txt_path, img_width, img_height):\n",
    "    with open(txt_path, 'r') as f:\n",
    "        lines = f.readlines()\n",
    "    labels, boxes = [], []\n",
    "\n",
    "    for line in lines:\n",
    "        data = line.strip().split()\n",
    "        class_id = int(data[0])\n",
    "        x_center, y_center, width, height = map(float, data[1:])\n",
    "        # Convert normalized YOLO format to absolute coordinates\n",
    "        x_min = (x_center - width / 2) * img_width\n",
    "        y_min = (y_center - height / 2) * img_height\n",
    "        x_max = (x_center + width / 2) * img_width\n",
    "        y_max = (y_center + height / 2) * img_height\n",
    "\n",
    "        # Ensure width and height are greater than 0\n",
    "        if x_max - x_min <= 0 or y_max - y_min <= 0:\n",
    "            continue\n",
    "\n",
    "        labels.append(class_id)\n",
    "        boxes.append([x_min, y_min, x_max, y_max])\n",
    "\n",
    "    return labels, boxes\n",
    "\n",
    "\n",
    "class TrafficSignDataset(Dataset):\n",
    "    def __init__(self, img_root, label_root, transforms=None):\n",
    "        self.img_root = img_root\n",
    "        self.label_root = label_root\n",
    "        self.transforms = transforms\n",
    "\n",
    "        self.imgs = sorted(os.listdir(img_root))\n",
    "        self.labels = sorted(os.listdir(label_root))\n",
    "\n",
    "    def __getitem__(self, idx):\n",
    "        img_path = os.path.join(self.img_root, self.imgs[idx])\n",
    "        label_path = os.path.join(self.label_root, self.labels[idx])\n",
    "    \n",
    "        img = Image.open(img_path).convert(\"RGB\")\n",
    "        img_width, img_height = img.size\n",
    "\n",
    "        labels, boxes = parse_yolo_format(label_path, img_width, img_height)\n",
    "        \n",
    "        boxes_tensor = torch.tensor(boxes, dtype=torch.float32)\n",
    "\n",
    "        target = {\n",
    "            \"boxes\": boxes_tensor,\n",
    "            \"labels\": torch.tensor(labels, dtype=torch.int64),\n",
    "            \"image_id\": torch.tensor([idx]),\n",
    "            \"area\": torch.tensor(((boxes_tensor[:, 2] - boxes_tensor[:, 0]) * (boxes_tensor[:, 3] - boxes_tensor[:, 1])), dtype=torch.float32),\n",
    "            \"iscrowd\": torch.zeros((len(labels),), dtype=torch.int64)\n",
    "        }\n",
    "        \n",
    "        if self.transforms:\n",
    "            img = self.transforms(img)\n",
    "        return img, target\n",
    "\n",
    "    def __len__(self):\n",
    "        return len(self.imgs)\n",
    "\n",
    "def get_faster_rcnn_model(num_classes):\n",
    "    model = fasterrcnn_mobilenet_v3_large_fpn(pretrained=True)\n",
    "    # Get number of input features for the classifier\n",
    "    in_features = model.roi_heads.box_predictor.cls_score.in_features\n",
    "    # Replace the pre-trained head with a new one\n",
    "    model.roi_heads.box_predictor = FastRCNNPredictor(in_features, num_classes)\n",
    "    return model\n",
    "\n",
    "num_classes = 50   # 49 classes + background\n",
    "batch_size = 24\n",
    "num_epochs = 100\n",
    "\n",
    "train_img_root, train_label_root = get_img_label_paths(train_root)\n",
    "val_img_root, val_label_root = get_img_label_paths(val_root)\n",
    "\n",
    "train_dataset = TrafficSignDataset(train_img_root, train_label_root, transforms=T.ToTensor())\n",
    "val_dataset = TrafficSignDataset(val_img_root, val_label_root, transforms=T.ToTensor())\n",
    "\n",
    "train_loader = DataLoader(train_dataset, batch_size=batch_size, shuffle=True, collate_fn=lambda x: tuple(zip(*x)), num_workers=4)\n",
    "val_loader = DataLoader(val_dataset, batch_size=batch_size, shuffle=False, collate_fn=lambda x: tuple(zip(*x)), num_workers=4)\n",
    "\n",
    "model = get_faster_rcnn_model(num_classes)\n",
    "device = torch.device('cuda') if torch.cuda.is_available() else torch.device('cpu')\n",
    "model.to(device)\n",
    "\n",
    "params = [p for p in model.parameters() if p.requires_grad]\n",
    "optimizer = torch.optim.SGD(params, lr=0.005, momentum=0.9, weight_decay=0.0005)\n",
    "accumulation_steps = 4\n",
    "model.train()\n",
    "loss_values = []\n",
    "\n",
    "#for epoch in tqdm(range(num_epochs), desc=\"Epochs\"):\n",
    "#    epoch_loss = 0\n",
    "#    num_batches = 0\n",
    "\n",
    " #   for images, targets in tqdm(train_loader, desc=\"Batches\", leave=False):\n",
    " #       images = list(image.to(device) for image in images)\n",
    " #       targets = [{k: v.to(device) for k, v in t.items()} for t in targets]\n",
    " #       loss_dict = model(images, targets)\n",
    " #       losses = sum(loss for loss in loss_dict.values())\n",
    "  #      \n",
    "#\n",
    " #       epoch_loss += losses.item()\n",
    " #       num_batches += 1\n",
    "#\n",
    " #       # Gradient accumulation\n",
    "  #      losses.backward()\n",
    "   #     \n",
    "    #    if (num_batches % accumulation_steps) == 0:\n",
    "     #       optimizer.step()\n",
    "     #       optimizer.zero_grad()\n",
    "#\n",
    " #   average_epoch_loss = epoch_loss / num_batches\n",
    "  ##  loss_values.append(average_epoch_loss)\n",
    "   ## print(f\"Epoch {epoch+1}/{num_epochs}, Loss: {average_epoch_loss:.4f}\")\n",
    "#\n",
    " #   # Save the model\n",
    "  #  torch.save(model.state_dict(), f\"faster_epoch_{epoch}.pth\")"
   ],
   "metadata": {
    "_uuid": "8f2839f25d086af736a60e9eeb907d3b93b6e0e5",
    "_cell_guid": "b1076dfc-b9ad-4769-8c92-a6c4dae69d19",
    "execution": {
     "iopub.status.busy": "2023-11-11T04:18:01.476252Z",
     "iopub.execute_input": "2023-11-11T04:18:01.476741Z",
     "iopub.status.idle": "2023-11-11T04:18:11.794019Z",
     "shell.execute_reply.started": "2023-11-11T04:18:01.476687Z",
     "shell.execute_reply": "2023-11-11T04:18:11.793034Z"
    },
    "trusted": true
   },
   "execution_count": 1,
   "outputs": [
    {
     "name": "stderr",
     "text": "/opt/conda/lib/python3.10/site-packages/torchvision/models/_utils.py:208: UserWarning: The parameter 'pretrained' is deprecated since 0.13 and may be removed in the future, please use 'weights' instead.\n  warnings.warn(\n/opt/conda/lib/python3.10/site-packages/torchvision/models/_utils.py:223: UserWarning: Arguments other than a weight enum or `None` for 'weights' are deprecated since 0.13 and may be removed in the future. The current behavior is equivalent to passing `weights=FasterRCNN_MobileNet_V3_Large_FPN_Weights.COCO_V1`. You can also use `weights=FasterRCNN_MobileNet_V3_Large_FPN_Weights.DEFAULT` to get the most up-to-date weights.\n  warnings.warn(msg)\nDownloading: \"https://download.pytorch.org/models/fasterrcnn_mobilenet_v3_large_fpn-fb6a3cc7.pth\" to /root/.cache/torch/hub/checkpoints/fasterrcnn_mobilenet_v3_large_fpn-fb6a3cc7.pth\n100%|██████████| 74.2M/74.2M [00:00<00:00, 206MB/s] \n",
     "output_type": "stream"
    }
   ]
  },
  {
   "cell_type": "code",
   "source": [
    "checkpoint_path = \"/kaggle/working/faster_epoch_95.pth\" \n",
    "\n",
    "# Tải lại trạng thái mô hình\n",
    "model.load_state_dict(torch.load(checkpoint_path, map_location=device))\n",
    "\n",
    "# Đặt lại device và chế độ train cho mô hình\n",
    "model.to(device)\n",
    "model.train()\n",
    "\n",
    "# Bắt đầu vòng lặp đào tạo từ epoch thứ 44\n",
    "for epoch in tqdm(range(96, num_epochs), desc=\"Epochs\"):\n",
    "    epoch_loss = 0\n",
    "    num_batches = 0\n",
    "\n",
    "    for images, targets in tqdm(train_loader, desc=\"Batches\", leave=False):\n",
    "        images = list(image.to(device) for image in images)\n",
    "        targets = [{k: v.to(device) for k, v in t.items()} for t in targets]\n",
    "\n",
    "        # Xóa gradients hiện có\n",
    "        optimizer.zero_grad()\n",
    "\n",
    "        loss_dict = model(images, targets)\n",
    "        losses = sum(loss for loss in loss_dict.values())\n",
    "\n",
    "        # Chia losses cho số lượng bước tích lũy gradient\n",
    "        losses = losses / accumulation_steps\n",
    "        losses.backward()\n",
    "        \n",
    "        if (num_batches % accumulation_steps) == 0:\n",
    "            optimizer.step()\n",
    "            optimizer.zero_grad()\n",
    "\n",
    "        epoch_loss += losses.item() * accumulation_steps  # Nhân lại để có tổng loss cho batch\n",
    "        num_batches += 1\n",
    "\n",
    "    average_epoch_loss = epoch_loss / num_batches\n",
    "    loss_values.append(average_epoch_loss)\n",
    "    print(f\"Epoch {epoch+1}/{num_epochs}, Loss: {average_epoch_loss:.4f}\")\n",
    "\n",
    "    # Lưu mô hình sau mỗi epoch\n",
    "    torch.save(model.state_dict(), f\"faster_epoch_{epoch}.pth\")"
   ],
   "metadata": {
    "execution": {
     "iopub.status.busy": "2023-11-11T04:18:11.795927Z",
     "iopub.execute_input": "2023-11-11T04:18:11.796818Z",
     "iopub.status.idle": "2023-11-11T05:34:31.069610Z",
     "shell.execute_reply.started": "2023-11-11T04:18:11.796763Z",
     "shell.execute_reply": "2023-11-11T05:34:31.068537Z"
    },
    "trusted": true
   },
   "execution_count": 2,
   "outputs": [
    {
     "output_type": "display_data",
     "data": {
      "text/plain": "Epochs:   0%|          | 0/4 [00:00<?, ?it/s]",
      "application/vnd.jupyter.widget-view+json": {
       "version_major": 2,
       "version_minor": 0,
       "model_id": "96aa81991e324a93971e274beb6aaaf2"
      }
     },
     "metadata": {}
    },
    {
     "output_type": "display_data",
     "data": {
      "text/plain": "Batches:   0%|          | 0/778 [00:00<?, ?it/s]",
      "application/vnd.jupyter.widget-view+json": {
       "version_major": 2,
       "version_minor": 0,
       "model_id": ""
      }
     },
     "metadata": {}
    },
    {
     "name": "stderr",
     "text": "/tmp/ipykernel_47/1474454553.py:69: UserWarning: To copy construct from a tensor, it is recommended to use sourceTensor.clone().detach() or sourceTensor.clone().detach().requires_grad_(True), rather than torch.tensor(sourceTensor).\n  \"area\": torch.tensor(((boxes_tensor[:, 2] - boxes_tensor[:, 0]) * (boxes_tensor[:, 3] - boxes_tensor[:, 1])), dtype=torch.float32),\n/tmp/ipykernel_47/1474454553.py:69: UserWarning: To copy construct from a tensor, it is recommended to use sourceTensor.clone().detach() or sourceTensor.clone().detach().requires_grad_(True), rather than torch.tensor(sourceTensor).\n  \"area\": torch.tensor(((boxes_tensor[:, 2] - boxes_tensor[:, 0]) * (boxes_tensor[:, 3] - boxes_tensor[:, 1])), dtype=torch.float32),\n/tmp/ipykernel_47/1474454553.py:69: UserWarning: To copy construct from a tensor, it is recommended to use sourceTensor.clone().detach() or sourceTensor.clone().detach().requires_grad_(True), rather than torch.tensor(sourceTensor).\n  \"area\": torch.tensor(((boxes_tensor[:, 2] - boxes_tensor[:, 0]) * (boxes_tensor[:, 3] - boxes_tensor[:, 1])), dtype=torch.float32),\n/tmp/ipykernel_47/1474454553.py:69: UserWarning: To copy construct from a tensor, it is recommended to use sourceTensor.clone().detach() or sourceTensor.clone().detach().requires_grad_(True), rather than torch.tensor(sourceTensor).\n  \"area\": torch.tensor(((boxes_tensor[:, 2] - boxes_tensor[:, 0]) * (boxes_tensor[:, 3] - boxes_tensor[:, 1])), dtype=torch.float32),\n",
     "output_type": "stream"
    },
    {
     "name": "stdout",
     "text": "Epoch 97/100, Loss: 0.2606\n",
     "output_type": "stream"
    },
    {
     "output_type": "display_data",
     "data": {
      "text/plain": "Batches:   0%|          | 0/778 [00:00<?, ?it/s]",
      "application/vnd.jupyter.widget-view+json": {
       "version_major": 2,
       "version_minor": 0,
       "model_id": ""
      }
     },
     "metadata": {}
    },
    {
     "name": "stderr",
     "text": "/tmp/ipykernel_47/1474454553.py:69: UserWarning: To copy construct from a tensor, it is recommended to use sourceTensor.clone().detach() or sourceTensor.clone().detach().requires_grad_(True), rather than torch.tensor(sourceTensor).\n  \"area\": torch.tensor(((boxes_tensor[:, 2] - boxes_tensor[:, 0]) * (boxes_tensor[:, 3] - boxes_tensor[:, 1])), dtype=torch.float32),\n/tmp/ipykernel_47/1474454553.py:69: UserWarning: To copy construct from a tensor, it is recommended to use sourceTensor.clone().detach() or sourceTensor.clone().detach().requires_grad_(True), rather than torch.tensor(sourceTensor).\n  \"area\": torch.tensor(((boxes_tensor[:, 2] - boxes_tensor[:, 0]) * (boxes_tensor[:, 3] - boxes_tensor[:, 1])), dtype=torch.float32),\n/tmp/ipykernel_47/1474454553.py:69: UserWarning: To copy construct from a tensor, it is recommended to use sourceTensor.clone().detach() or sourceTensor.clone().detach().requires_grad_(True), rather than torch.tensor(sourceTensor).\n  \"area\": torch.tensor(((boxes_tensor[:, 2] - boxes_tensor[:, 0]) * (boxes_tensor[:, 3] - boxes_tensor[:, 1])), dtype=torch.float32),\n/tmp/ipykernel_47/1474454553.py:69: UserWarning: To copy construct from a tensor, it is recommended to use sourceTensor.clone().detach() or sourceTensor.clone().detach().requires_grad_(True), rather than torch.tensor(sourceTensor).\n  \"area\": torch.tensor(((boxes_tensor[:, 2] - boxes_tensor[:, 0]) * (boxes_tensor[:, 3] - boxes_tensor[:, 1])), dtype=torch.float32),\n",
     "output_type": "stream"
    },
    {
     "name": "stdout",
     "text": "Epoch 98/100, Loss: 0.2611\n",
     "output_type": "stream"
    },
    {
     "output_type": "display_data",
     "data": {
      "text/plain": "Batches:   0%|          | 0/778 [00:00<?, ?it/s]",
      "application/vnd.jupyter.widget-view+json": {
       "version_major": 2,
       "version_minor": 0,
       "model_id": ""
      }
     },
     "metadata": {}
    },
    {
     "name": "stderr",
     "text": "/tmp/ipykernel_47/1474454553.py:69: UserWarning: To copy construct from a tensor, it is recommended to use sourceTensor.clone().detach() or sourceTensor.clone().detach().requires_grad_(True), rather than torch.tensor(sourceTensor).\n  \"area\": torch.tensor(((boxes_tensor[:, 2] - boxes_tensor[:, 0]) * (boxes_tensor[:, 3] - boxes_tensor[:, 1])), dtype=torch.float32),\n/tmp/ipykernel_47/1474454553.py:69: UserWarning: To copy construct from a tensor, it is recommended to use sourceTensor.clone().detach() or sourceTensor.clone().detach().requires_grad_(True), rather than torch.tensor(sourceTensor).\n  \"area\": torch.tensor(((boxes_tensor[:, 2] - boxes_tensor[:, 0]) * (boxes_tensor[:, 3] - boxes_tensor[:, 1])), dtype=torch.float32),\n/tmp/ipykernel_47/1474454553.py:69: UserWarning: To copy construct from a tensor, it is recommended to use sourceTensor.clone().detach() or sourceTensor.clone().detach().requires_grad_(True), rather than torch.tensor(sourceTensor).\n  \"area\": torch.tensor(((boxes_tensor[:, 2] - boxes_tensor[:, 0]) * (boxes_tensor[:, 3] - boxes_tensor[:, 1])), dtype=torch.float32),\n/tmp/ipykernel_47/1474454553.py:69: UserWarning: To copy construct from a tensor, it is recommended to use sourceTensor.clone().detach() or sourceTensor.clone().detach().requires_grad_(True), rather than torch.tensor(sourceTensor).\n  \"area\": torch.tensor(((boxes_tensor[:, 2] - boxes_tensor[:, 0]) * (boxes_tensor[:, 3] - boxes_tensor[:, 1])), dtype=torch.float32),\n",
     "output_type": "stream"
    },
    {
     "name": "stdout",
     "text": "Epoch 99/100, Loss: 0.2482\n",
     "output_type": "stream"
    },
    {
     "output_type": "display_data",
     "data": {
      "text/plain": "Batches:   0%|          | 0/778 [00:00<?, ?it/s]",
      "application/vnd.jupyter.widget-view+json": {
       "version_major": 2,
       "version_minor": 0,
       "model_id": ""
      }
     },
     "metadata": {}
    },
    {
     "name": "stderr",
     "text": "/tmp/ipykernel_47/1474454553.py:69: UserWarning: To copy construct from a tensor, it is recommended to use sourceTensor.clone().detach() or sourceTensor.clone().detach().requires_grad_(True), rather than torch.tensor(sourceTensor).\n  \"area\": torch.tensor(((boxes_tensor[:, 2] - boxes_tensor[:, 0]) * (boxes_tensor[:, 3] - boxes_tensor[:, 1])), dtype=torch.float32),\n/tmp/ipykernel_47/1474454553.py:69: UserWarning: To copy construct from a tensor, it is recommended to use sourceTensor.clone().detach() or sourceTensor.clone().detach().requires_grad_(True), rather than torch.tensor(sourceTensor).\n  \"area\": torch.tensor(((boxes_tensor[:, 2] - boxes_tensor[:, 0]) * (boxes_tensor[:, 3] - boxes_tensor[:, 1])), dtype=torch.float32),\n/tmp/ipykernel_47/1474454553.py:69: UserWarning: To copy construct from a tensor, it is recommended to use sourceTensor.clone().detach() or sourceTensor.clone().detach().requires_grad_(True), rather than torch.tensor(sourceTensor).\n  \"area\": torch.tensor(((boxes_tensor[:, 2] - boxes_tensor[:, 0]) * (boxes_tensor[:, 3] - boxes_tensor[:, 1])), dtype=torch.float32),\n/tmp/ipykernel_47/1474454553.py:69: UserWarning: To copy construct from a tensor, it is recommended to use sourceTensor.clone().detach() or sourceTensor.clone().detach().requires_grad_(True), rather than torch.tensor(sourceTensor).\n  \"area\": torch.tensor(((boxes_tensor[:, 2] - boxes_tensor[:, 0]) * (boxes_tensor[:, 3] - boxes_tensor[:, 1])), dtype=torch.float32),\n",
     "output_type": "stream"
    },
    {
     "name": "stdout",
     "text": "Epoch 100/100, Loss: 0.2537\n",
     "output_type": "stream"
    }
   ]
  }
 ]
}
